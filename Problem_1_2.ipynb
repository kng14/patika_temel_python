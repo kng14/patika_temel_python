{
 "cells": [
  {
   "cell_type": "code",
   "execution_count": 1,
   "id": "correct-award",
   "metadata": {},
   "outputs": [
    {
     "name": "stdout",
     "output_type": "stream",
     "text": [
      "[1, 'a', 'cat', 2, 3, 'dog', 4, 5]\n"
     ]
    }
   ],
   "source": [
    "\"\"\"Bir listeyi düzleştiren (flatten) fonksiyon yazın. Elemanları birden çok katmanlı listtlerden ([[3],2] gibi) oluşabileceği gibi, non-scalar verilerden de oluşabilir. Örnek olarak:\n",
    "input: [[1,'a',['cat'],2],[[[3]],'dog'],4,5]\n",
    "\n",
    "output: [1,'a','cat',2,3,'dog',4,5]\n",
    "\"\"\"\n",
    "input = [[1,'a',['cat'],2],[[[3]],'dog'],4,5]\n",
    "#Girdi degerlerimizi belirledik\n",
    "flat_list = [] #list olusturduk\n",
    "\n",
    "# function\n",
    "def flatten_list(input):\n",
    "    \n",
    "    for element in input:\n",
    "        # listi kontol edecegiz\n",
    "        if type(element) == list:\n",
    "           \n",
    "            flatten_list(element)\n",
    "        else:\n",
    "            flat_list.append(element)\n",
    "\n",
    "\n",
    "flatten_list(input)\n",
    "\n",
    "\n",
    "print(flat_list) "
   ]
  },
  {
   "cell_type": "raw",
   "id": "spare-suffering",
   "metadata": {},
   "source": [
    "# Verilen listenin içindeki elemanları tersine döndüren bir fonksiyon yazın. Eğer listenin içindeki elemanlar da liste içeriyorsa onların elemanlarını da tersine döndürün. Örnek olarak:\n",
    "input: [[1, 2], [3, 4], [5, 6, 7]]\n",
    "\n",
    "output: [[[7, 6, 5], [4, 3], [2, 1]]"
   ]
  },
  {
   "cell_type": "code",
   "execution_count": 2,
   "id": "packed-newark",
   "metadata": {},
   "outputs": [
    {
     "name": "stdout",
     "output_type": "stream",
     "text": [
      "[[7, 6, 5], [4, 3], [2, 1]]\n"
     ]
    }
   ],
   "source": [
    "input = [[1, 2], [3, 4], [5, 6, 7]]\n",
    "\n",
    "def reverse(input):\n",
    "    for l in input:\n",
    "        l.reverse()\n",
    "        sorted(l)\n",
    "    input.reverse()\n",
    "    return input\n",
    "a = reverse(input)\n",
    "print(a)  "
   ]
  },
  {
   "cell_type": "code",
   "execution_count": null,
   "id": "future-giving",
   "metadata": {},
   "outputs": [],
   "source": []
  }
 ],
 "metadata": {
  "kernelspec": {
   "display_name": "Python 3",
   "language": "python",
   "name": "python3"
  },
  "language_info": {
   "codemirror_mode": {
    "name": "ipython",
    "version": 3
   },
   "file_extension": ".py",
   "mimetype": "text/x-python",
   "name": "python",
   "nbconvert_exporter": "python",
   "pygments_lexer": "ipython3",
   "version": "3.7.6"
  }
 },
 "nbformat": 4,
 "nbformat_minor": 5
}
